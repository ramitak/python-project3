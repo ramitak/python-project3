{
 "cells": [
  {
   "cell_type": "code",
   "execution_count": 4,
   "metadata": {},
   "outputs": [],
   "source": [
    "import pandas as pd\n",
    "import os\n",
    "import sqlite3\n",
    "\n",
    "file = 'college.xlsx'\n",
    "df1 = pd.read_excel(file)\n",
    "sql_db = sqlite3.connect('Closed_college.db')\n",
    "df1.to_sql('College', sql_db, if_exists = 'replace')\n",
    "\n",
    "\n",
    "\n",
    "def run_query(query):\n",
    "    df = pd.read_sql_query(query, sql_db)\n",
    "    return df"
   ]
  },
  {
   "cell_type": "code",
   "execution_count": 5,
   "metadata": {},
   "outputs": [
    {
     "data": {
      "text/html": [
       "<div>\n",
       "<style scoped>\n",
       "    .dataframe tbody tr th:only-of-type {\n",
       "        vertical-align: middle;\n",
       "    }\n",
       "\n",
       "    .dataframe tbody tr th {\n",
       "        vertical-align: top;\n",
       "    }\n",
       "\n",
       "    .dataframe thead th {\n",
       "        text-align: right;\n",
       "    }\n",
       "</style>\n",
       "<table border=\"1\" class=\"dataframe\">\n",
       "  <thead>\n",
       "    <tr style=\"text-align: right;\">\n",
       "      <th></th>\n",
       "      <th>index</th>\n",
       "      <th>Name</th>\n",
       "      <th>OPEID</th>\n",
       "      <th>Location</th>\n",
       "      <th>Geographic_Location</th>\n",
       "      <th>Teacher_num</th>\n",
       "      <th>student_num</th>\n",
       "    </tr>\n",
       "  </thead>\n",
       "  <tbody>\n",
       "    <tr>\n",
       "      <td>0</td>\n",
       "      <td>0</td>\n",
       "      <td>John Wesley University</td>\n",
       "      <td>293500.0</td>\n",
       "      <td>High Point,North Carolina</td>\n",
       "      <td>Northeast</td>\n",
       "      <td>200</td>\n",
       "      <td>4500</td>\n",
       "    </tr>\n",
       "    <tr>\n",
       "      <td>1</td>\n",
       "      <td>1</td>\n",
       "      <td>Southern Catholic College</td>\n",
       "      <td>4128500.0</td>\n",
       "      <td>Dawsonville, Georgia</td>\n",
       "      <td>South</td>\n",
       "      <td>150</td>\n",
       "      <td>5000</td>\n",
       "    </tr>\n",
       "    <tr>\n",
       "      <td>2</td>\n",
       "      <td>2</td>\n",
       "      <td>Vennard College</td>\n",
       "      <td>NaN</td>\n",
       "      <td>University Park, Iowa</td>\n",
       "      <td>Midwest</td>\n",
       "      <td>100</td>\n",
       "      <td>3500</td>\n",
       "    </tr>\n",
       "    <tr>\n",
       "      <td>3</td>\n",
       "      <td>3</td>\n",
       "      <td>Mid-Continent University</td>\n",
       "      <td>2576200.0</td>\n",
       "      <td>Mayfield, Kentucky</td>\n",
       "      <td>South</td>\n",
       "      <td>200</td>\n",
       "      <td>4500</td>\n",
       "    </tr>\n",
       "    <tr>\n",
       "      <td>4</td>\n",
       "      <td>4</td>\n",
       "      <td>Baltimore Hebrew University</td>\n",
       "      <td>NaN</td>\n",
       "      <td>Baltimore, Maryland</td>\n",
       "      <td>None</td>\n",
       "      <td>450</td>\n",
       "      <td>2600</td>\n",
       "    </tr>\n",
       "    <tr>\n",
       "      <td>5</td>\n",
       "      <td>5</td>\n",
       "      <td>College of Visual Arts</td>\n",
       "      <td>746200.0</td>\n",
       "      <td>Saint Paul, Minnesota</td>\n",
       "      <td>Midwest</td>\n",
       "      <td>100</td>\n",
       "      <td>4500</td>\n",
       "    </tr>\n",
       "    <tr>\n",
       "      <td>6</td>\n",
       "      <td>6</td>\n",
       "      <td>Pillsbury Baptist Bible College</td>\n",
       "      <td>2284500.0</td>\n",
       "      <td>Owatonna, Minnesota</td>\n",
       "      <td>None</td>\n",
       "      <td>150</td>\n",
       "      <td>3700</td>\n",
       "    </tr>\n",
       "    <tr>\n",
       "      <td>7</td>\n",
       "      <td>7</td>\n",
       "      <td>Chester College of New England</td>\n",
       "      <td>473300.0</td>\n",
       "      <td>Chester, New Hampshire</td>\n",
       "      <td>Northeast</td>\n",
       "      <td>230</td>\n",
       "      <td>3900</td>\n",
       "    </tr>\n",
       "    <tr>\n",
       "      <td>8</td>\n",
       "      <td>8</td>\n",
       "      <td>Lambuth University</td>\n",
       "      <td>349800.0</td>\n",
       "      <td>Jackson, Tennessee</td>\n",
       "      <td>South</td>\n",
       "      <td>190</td>\n",
       "      <td>4200</td>\n",
       "    </tr>\n",
       "    <tr>\n",
       "      <td>9</td>\n",
       "      <td>9</td>\n",
       "      <td>Coleman University</td>\n",
       "      <td>729600.0</td>\n",
       "      <td>San Diego, California</td>\n",
       "      <td>Midwest</td>\n",
       "      <td>220</td>\n",
       "      <td>3700</td>\n",
       "    </tr>\n",
       "  </tbody>\n",
       "</table>\n",
       "</div>"
      ],
      "text/plain": [
       "   index                             Name      OPEID  \\\n",
       "0      0           John Wesley University   293500.0   \n",
       "1      1        Southern Catholic College  4128500.0   \n",
       "2      2                  Vennard College        NaN   \n",
       "3      3         Mid-Continent University  2576200.0   \n",
       "4      4      Baltimore Hebrew University        NaN   \n",
       "5      5           College of Visual Arts   746200.0   \n",
       "6      6  Pillsbury Baptist Bible College  2284500.0   \n",
       "7      7   Chester College of New England   473300.0   \n",
       "8      8               Lambuth University   349800.0   \n",
       "9      9               Coleman University   729600.0   \n",
       "\n",
       "                    Location Geographic_Location  Teacher_num  student_num  \n",
       "0  High Point,North Carolina           Northeast          200         4500  \n",
       "1       Dawsonville, Georgia               South          150         5000  \n",
       "2      University Park, Iowa             Midwest          100         3500  \n",
       "3         Mayfield, Kentucky               South          200         4500  \n",
       "4        Baltimore, Maryland                None          450         2600  \n",
       "5      Saint Paul, Minnesota             Midwest          100         4500  \n",
       "6        Owatonna, Minnesota                None          150         3700  \n",
       "7     Chester, New Hampshire           Northeast          230         3900  \n",
       "8         Jackson, Tennessee               South          190         4200  \n",
       "9      San Diego, California             Midwest          220         3700  "
      ]
     },
     "execution_count": 5,
     "metadata": {},
     "output_type": "execute_result"
    }
   ],
   "source": [
    "query = 'SELECT * FROM College LIMIT 25'\n",
    "run_query(query)"
   ]
  },
  {
   "cell_type": "code",
   "execution_count": 6,
   "metadata": {},
   "outputs": [
    {
     "data": {
      "text/plain": [
       "Name                   10\n",
       "OPEID                   8\n",
       "Location               10\n",
       "Geographic_Location     8\n",
       "Teacher_num            10\n",
       "student_num            10\n",
       "dtype: int64"
      ]
     },
     "execution_count": 6,
     "metadata": {},
     "output_type": "execute_result"
    }
   ],
   "source": [
    "df1.count()"
   ]
  },
  {
   "cell_type": "code",
   "execution_count": 7,
   "metadata": {},
   "outputs": [
    {
     "data": {
      "text/plain": [
       "Name                   0\n",
       "OPEID                  2\n",
       "Location               0\n",
       "Geographic_Location    2\n",
       "Teacher_num            0\n",
       "student_num            0\n",
       "dtype: int64"
      ]
     },
     "execution_count": 7,
     "metadata": {},
     "output_type": "execute_result"
    }
   ],
   "source": [
    "df1.isnull().sum()\n",
    "\n",
    "#Sum of null rows per each column"
   ]
  },
  {
   "cell_type": "code",
   "execution_count": 8,
   "metadata": {},
   "outputs": [],
   "source": [
    "df1['OPEID'] = df1['OPEID'].fillna('0')\n",
    "\n",
    "#filling null values for column 'Religious Affilation' with 'No religion'"
   ]
  },
  {
   "cell_type": "code",
   "execution_count": 29,
   "metadata": {},
   "outputs": [
    {
     "name": "stdout",
     "output_type": "stream",
     "text": [
      "0        293500\n",
      "1    4.1285e+06\n",
      "2             0\n",
      "3    2.5762e+06\n",
      "4             0\n",
      "5        746200\n",
      "6    2.2845e+06\n",
      "7        473300\n",
      "8        349800\n",
      "9        729600\n",
      "Name: OPEID, dtype: object\n"
     ]
    }
   ],
   "source": [
    "print (df1['OPEID'])"
   ]
  },
  {
   "cell_type": "code",
   "execution_count": 9,
   "metadata": {},
   "outputs": [
    {
     "data": {
      "text/plain": [
       "0    Northeast\n",
       "1        South\n",
       "2      Midwest\n",
       "3        South\n",
       "4          NaN\n",
       "5      Midwest\n",
       "6          NaN\n",
       "7    Northeast\n",
       "8        South\n",
       "9      Midwest\n",
       "Name: Geographic_Location, dtype: object"
      ]
     },
     "execution_count": 9,
     "metadata": {},
     "output_type": "execute_result"
    }
   ],
   "source": [
    "df1['Geographic_Location']"
   ]
  },
  {
   "cell_type": "code",
   "execution_count": 12,
   "metadata": {},
   "outputs": [
    {
     "data": {
      "text/plain": [
       "Name                   0\n",
       "OPEID                  0\n",
       "Location               0\n",
       "Geographic_Location    0\n",
       "Teacher_num            0\n",
       "student_num            0\n",
       "dtype: int64"
      ]
     },
     "execution_count": 12,
     "metadata": {},
     "output_type": "execute_result"
    }
   ],
   "source": [
    "empty_Geo_Location = df1.dropna(inplace=True)\n",
    "df1.isnull().sum()"
   ]
  },
  {
   "cell_type": "code",
   "execution_count": 13,
   "metadata": {},
   "outputs": [
    {
     "data": {
      "text/html": [
       "<div>\n",
       "<style scoped>\n",
       "    .dataframe tbody tr th:only-of-type {\n",
       "        vertical-align: middle;\n",
       "    }\n",
       "\n",
       "    .dataframe tbody tr th {\n",
       "        vertical-align: top;\n",
       "    }\n",
       "\n",
       "    .dataframe thead th {\n",
       "        text-align: right;\n",
       "    }\n",
       "</style>\n",
       "<table border=\"1\" class=\"dataframe\">\n",
       "  <thead>\n",
       "    <tr style=\"text-align: right;\">\n",
       "      <th></th>\n",
       "      <th>Name</th>\n",
       "      <th>OPEID</th>\n",
       "      <th>Location</th>\n",
       "      <th>Geographic_Location</th>\n",
       "      <th>Teacher_num</th>\n",
       "      <th>student_num</th>\n",
       "    </tr>\n",
       "  </thead>\n",
       "  <tbody>\n",
       "    <tr>\n",
       "      <td>0</td>\n",
       "      <td>John Wesley University</td>\n",
       "      <td>293500</td>\n",
       "      <td>High Point,North Carolina</td>\n",
       "      <td>Northeast</td>\n",
       "      <td>200</td>\n",
       "      <td>4500</td>\n",
       "    </tr>\n",
       "    <tr>\n",
       "      <td>1</td>\n",
       "      <td>Southern Catholic College</td>\n",
       "      <td>4.1285e+06</td>\n",
       "      <td>Dawsonville, Georgia</td>\n",
       "      <td>South</td>\n",
       "      <td>150</td>\n",
       "      <td>5000</td>\n",
       "    </tr>\n",
       "    <tr>\n",
       "      <td>2</td>\n",
       "      <td>Vennard College</td>\n",
       "      <td>0</td>\n",
       "      <td>University Park, Iowa</td>\n",
       "      <td>Midwest</td>\n",
       "      <td>100</td>\n",
       "      <td>3500</td>\n",
       "    </tr>\n",
       "    <tr>\n",
       "      <td>3</td>\n",
       "      <td>Mid-Continent University</td>\n",
       "      <td>2.5762e+06</td>\n",
       "      <td>Mayfield, Kentucky</td>\n",
       "      <td>South</td>\n",
       "      <td>200</td>\n",
       "      <td>4500</td>\n",
       "    </tr>\n",
       "    <tr>\n",
       "      <td>5</td>\n",
       "      <td>College of Visual Arts</td>\n",
       "      <td>746200</td>\n",
       "      <td>Saint Paul, Minnesota</td>\n",
       "      <td>Midwest</td>\n",
       "      <td>100</td>\n",
       "      <td>4500</td>\n",
       "    </tr>\n",
       "    <tr>\n",
       "      <td>7</td>\n",
       "      <td>Chester College of New England</td>\n",
       "      <td>473300</td>\n",
       "      <td>Chester, New Hampshire</td>\n",
       "      <td>Northeast</td>\n",
       "      <td>230</td>\n",
       "      <td>3900</td>\n",
       "    </tr>\n",
       "    <tr>\n",
       "      <td>8</td>\n",
       "      <td>Lambuth University</td>\n",
       "      <td>349800</td>\n",
       "      <td>Jackson, Tennessee</td>\n",
       "      <td>South</td>\n",
       "      <td>190</td>\n",
       "      <td>4200</td>\n",
       "    </tr>\n",
       "    <tr>\n",
       "      <td>9</td>\n",
       "      <td>Coleman University</td>\n",
       "      <td>729600</td>\n",
       "      <td>San Diego, California</td>\n",
       "      <td>Midwest</td>\n",
       "      <td>220</td>\n",
       "      <td>3700</td>\n",
       "    </tr>\n",
       "  </tbody>\n",
       "</table>\n",
       "</div>"
      ],
      "text/plain": [
       "                             Name       OPEID                   Location  \\\n",
       "0          John Wesley University      293500  High Point,North Carolina   \n",
       "1       Southern Catholic College  4.1285e+06       Dawsonville, Georgia   \n",
       "2                 Vennard College           0      University Park, Iowa   \n",
       "3        Mid-Continent University  2.5762e+06         Mayfield, Kentucky   \n",
       "5          College of Visual Arts      746200      Saint Paul, Minnesota   \n",
       "7  Chester College of New England      473300     Chester, New Hampshire   \n",
       "8              Lambuth University      349800         Jackson, Tennessee   \n",
       "9              Coleman University      729600      San Diego, California   \n",
       "\n",
       "  Geographic_Location  Teacher_num  student_num  \n",
       "0           Northeast          200         4500  \n",
       "1               South          150         5000  \n",
       "2             Midwest          100         3500  \n",
       "3               South          200         4500  \n",
       "5             Midwest          100         4500  \n",
       "7           Northeast          230         3900  \n",
       "8               South          190         4200  \n",
       "9             Midwest          220         3700  "
      ]
     },
     "execution_count": 13,
     "metadata": {},
     "output_type": "execute_result"
    }
   ],
   "source": [
    "df1"
   ]
  },
  {
   "cell_type": "code",
   "execution_count": 14,
   "metadata": {},
   "outputs": [
    {
     "data": {
      "text/plain": [
       "Name                   0\n",
       "OPEID                  0\n",
       "Location               0\n",
       "Geographic_Location    0\n",
       "Teacher_num            0\n",
       "student_num            0\n",
       "dtype: int64"
      ]
     },
     "execution_count": 14,
     "metadata": {},
     "output_type": "execute_result"
    }
   ],
   "source": [
    "df1.isnull().sum()"
   ]
  },
  {
   "cell_type": "code",
   "execution_count": 16,
   "metadata": {},
   "outputs": [
    {
     "data": {
      "text/html": [
       "<div>\n",
       "<style scoped>\n",
       "    .dataframe tbody tr th:only-of-type {\n",
       "        vertical-align: middle;\n",
       "    }\n",
       "\n",
       "    .dataframe tbody tr th {\n",
       "        vertical-align: top;\n",
       "    }\n",
       "\n",
       "    .dataframe thead th {\n",
       "        text-align: right;\n",
       "    }\n",
       "</style>\n",
       "<table border=\"1\" class=\"dataframe\">\n",
       "  <thead>\n",
       "    <tr style=\"text-align: right;\">\n",
       "      <th></th>\n",
       "      <th>Geographic_Location</th>\n",
       "      <th>Total Teacher</th>\n",
       "      <th>Avg Teacher</th>\n",
       "      <th>Total Student</th>\n",
       "      <th>Avg Student</th>\n",
       "      <th>Number of Colleges</th>\n",
       "    </tr>\n",
       "  </thead>\n",
       "  <tbody>\n",
       "    <tr>\n",
       "      <td>0</td>\n",
       "      <td>None</td>\n",
       "      <td>600</td>\n",
       "      <td>300.0</td>\n",
       "      <td>6300</td>\n",
       "      <td>3150.000000</td>\n",
       "      <td>2</td>\n",
       "    </tr>\n",
       "    <tr>\n",
       "      <td>1</td>\n",
       "      <td>Midwest</td>\n",
       "      <td>420</td>\n",
       "      <td>140.0</td>\n",
       "      <td>11700</td>\n",
       "      <td>3900.000000</td>\n",
       "      <td>3</td>\n",
       "    </tr>\n",
       "    <tr>\n",
       "      <td>2</td>\n",
       "      <td>Northeast</td>\n",
       "      <td>430</td>\n",
       "      <td>215.0</td>\n",
       "      <td>8400</td>\n",
       "      <td>4200.000000</td>\n",
       "      <td>2</td>\n",
       "    </tr>\n",
       "    <tr>\n",
       "      <td>3</td>\n",
       "      <td>South</td>\n",
       "      <td>540</td>\n",
       "      <td>180.0</td>\n",
       "      <td>13700</td>\n",
       "      <td>4566.666667</td>\n",
       "      <td>3</td>\n",
       "    </tr>\n",
       "  </tbody>\n",
       "</table>\n",
       "</div>"
      ],
      "text/plain": [
       "  Geographic_Location  Total Teacher  Avg Teacher  Total Student  Avg Student  \\\n",
       "0                None            600        300.0           6300  3150.000000   \n",
       "1             Midwest            420        140.0          11700  3900.000000   \n",
       "2           Northeast            430        215.0           8400  4200.000000   \n",
       "3               South            540        180.0          13700  4566.666667   \n",
       "\n",
       "   Number of Colleges  \n",
       "0                   2  \n",
       "1                   3  \n",
       "2                   2  \n",
       "3                   3  "
      ]
     },
     "execution_count": 16,
     "metadata": {},
     "output_type": "execute_result"
    }
   ],
   "source": [
    "query_Geo_Location = \"\"\"\n",
    "select \n",
    " Geographic_Location\n",
    " ,sum(Teacher_num) as \"Total Teacher\"\n",
    " ,avg(Teacher_num) as \"Avg Teacher\"\n",
    ",sum(student_num) as \"Total Student\"\n",
    ",avg(student_num) as \"Avg Student\"\n",
    ",count(*) as \"Number of Colleges\"\n",
    "from College\n",
    "group by Geographic_Location; \"\"\"\n",
    "\n",
    "run_query(query_Geo_Location)"
   ]
  },
  {
   "cell_type": "code",
   "execution_count": 17,
   "metadata": {},
   "outputs": [
    {
     "data": {
      "text/html": [
       "<div>\n",
       "<style scoped>\n",
       "    .dataframe tbody tr th:only-of-type {\n",
       "        vertical-align: middle;\n",
       "    }\n",
       "\n",
       "    .dataframe tbody tr th {\n",
       "        vertical-align: top;\n",
       "    }\n",
       "\n",
       "    .dataframe thead th {\n",
       "        text-align: right;\n",
       "    }\n",
       "</style>\n",
       "<table border=\"1\" class=\"dataframe\">\n",
       "  <thead>\n",
       "    <tr style=\"text-align: right;\">\n",
       "      <th></th>\n",
       "      <th>Geographic_Location</th>\n",
       "      <th>Colleges per Geo Location</th>\n",
       "    </tr>\n",
       "  </thead>\n",
       "  <tbody>\n",
       "    <tr>\n",
       "      <td>0</td>\n",
       "      <td>None</td>\n",
       "      <td>2</td>\n",
       "    </tr>\n",
       "    <tr>\n",
       "      <td>1</td>\n",
       "      <td>Northeast</td>\n",
       "      <td>2</td>\n",
       "    </tr>\n",
       "    <tr>\n",
       "      <td>2</td>\n",
       "      <td>Midwest</td>\n",
       "      <td>3</td>\n",
       "    </tr>\n",
       "    <tr>\n",
       "      <td>3</td>\n",
       "      <td>South</td>\n",
       "      <td>3</td>\n",
       "    </tr>\n",
       "  </tbody>\n",
       "</table>\n",
       "</div>"
      ],
      "text/plain": [
       "  Geographic_Location  Colleges per Geo Location\n",
       "0                None                          2\n",
       "1           Northeast                          2\n",
       "2             Midwest                          3\n",
       "3               South                          3"
      ]
     },
     "execution_count": 17,
     "metadata": {},
     "output_type": "execute_result"
    }
   ],
   "source": [
    "query_college_per_location = \"\"\"\n",
    "select \n",
    "Geographic_Location\n",
    ",count(*) as \"Colleges per Geo Location\"\n",
    "from College\n",
    "group by Geographic_LOcation\n",
    "order by \"Colleges per Geo Location\" asc;\n",
    "\"\"\"\n",
    "\n",
    "run_query(query_college_per_location)"
   ]
  },
  {
   "cell_type": "code",
   "execution_count": null,
   "metadata": {},
   "outputs": [],
   "source": []
  },
  {
   "cell_type": "code",
   "execution_count": null,
   "metadata": {},
   "outputs": [],
   "source": []
  },
  {
   "cell_type": "code",
   "execution_count": null,
   "metadata": {},
   "outputs": [],
   "source": []
  },
  {
   "cell_type": "code",
   "execution_count": null,
   "metadata": {},
   "outputs": [],
   "source": []
  }
 ],
 "metadata": {
  "kernelspec": {
   "display_name": "Python 3",
   "language": "python",
   "name": "python3"
  },
  "language_info": {
   "codemirror_mode": {
    "name": "ipython",
    "version": 3
   },
   "file_extension": ".py",
   "mimetype": "text/x-python",
   "name": "python",
   "nbconvert_exporter": "python",
   "pygments_lexer": "ipython3",
   "version": "3.7.4"
  }
 },
 "nbformat": 4,
 "nbformat_minor": 2
}
